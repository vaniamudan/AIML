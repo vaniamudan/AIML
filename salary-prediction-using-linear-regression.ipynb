{
 "cells": [
  {
   "cell_type": "code",
   "execution_count": 1,
   "id": "eb4fae81",
   "metadata": {
    "_cell_guid": "b1076dfc-b9ad-4769-8c92-a6c4dae69d19",
    "_uuid": "8f2839f25d086af736a60e9eeb907d3b93b6e0e5",
    "execution": {
     "iopub.execute_input": "2024-03-09T06:56:20.761525Z",
     "iopub.status.busy": "2024-03-09T06:56:20.761109Z",
     "iopub.status.idle": "2024-03-09T06:56:20.785235Z",
     "shell.execute_reply": "2024-03-09T06:56:20.783903Z"
    },
    "papermill": {
     "duration": 0.041068,
     "end_time": "2024-03-09T06:56:20.788284",
     "exception": false,
     "start_time": "2024-03-09T06:56:20.747216",
     "status": "completed"
    },
    "tags": []
   },
   "outputs": [
    {
     "name": "stdout",
     "output_type": "stream",
     "text": [
      "/kaggle/input/salary-data-1/Salary_Data_1.csv\n"
     ]
    }
   ],
   "source": [
    "import os\n",
    "for dirname, _, filenames in os.walk('/kaggle/input'):\n",
    "    for filename in filenames:\n",
    "        print(os.path.join(dirname, filename))\n",
    "        \n",
    "import warnings\n",
    "warnings.simplefilter(action='ignore', category=FutureWarning)"
   ]
  },
  {
   "cell_type": "markdown",
   "id": "df6a4ae7",
   "metadata": {
    "papermill": {
     "duration": 0.01118,
     "end_time": "2024-03-09T06:56:20.811660",
     "exception": false,
     "start_time": "2024-03-09T06:56:20.800480",
     "status": "completed"
    },
    "tags": []
   },
   "source": [
    "# Import required libraries"
   ]
  },
  {
   "cell_type": "code",
   "execution_count": 2,
   "id": "3bd1154c",
   "metadata": {
    "execution": {
     "iopub.execute_input": "2024-03-09T06:56:20.836355Z",
     "iopub.status.busy": "2024-03-09T06:56:20.835938Z",
     "iopub.status.idle": "2024-03-09T06:56:23.189456Z",
     "shell.execute_reply": "2024-03-09T06:56:23.188332Z"
    },
    "papermill": {
     "duration": 2.369374,
     "end_time": "2024-03-09T06:56:23.192632",
     "exception": false,
     "start_time": "2024-03-09T06:56:20.823258",
     "status": "completed"
    },
    "tags": []
   },
   "outputs": [],
   "source": [
    "import numpy as np\n",
    "import pandas as pd\n",
    "import matplotlib.pyplot as plt\n",
    "import seaborn as sns"
   ]
  },
  {
   "cell_type": "markdown",
   "id": "46148e45",
   "metadata": {
    "papermill": {
     "duration": 0.011269,
     "end_time": "2024-03-09T06:56:23.215797",
     "exception": false,
     "start_time": "2024-03-09T06:56:23.204528",
     "status": "completed"
    },
    "tags": []
   },
   "source": [
    "# Import the dataset"
   ]
  },
  {
   "cell_type": "code",
   "execution_count": 3,
   "id": "59bee803",
   "metadata": {
    "execution": {
     "iopub.execute_input": "2024-03-09T06:56:23.241199Z",
     "iopub.status.busy": "2024-03-09T06:56:23.240688Z",
     "iopub.status.idle": "2024-03-09T06:56:23.272915Z",
     "shell.execute_reply": "2024-03-09T06:56:23.271570Z"
    },
    "papermill": {
     "duration": 0.048223,
     "end_time": "2024-03-09T06:56:23.275672",
     "exception": false,
     "start_time": "2024-03-09T06:56:23.227449",
     "status": "completed"
    },
    "tags": []
   },
   "outputs": [
    {
     "data": {
      "text/html": [
       "<div>\n",
       "<style scoped>\n",
       "    .dataframe tbody tr th:only-of-type {\n",
       "        vertical-align: middle;\n",
       "    }\n",
       "\n",
       "    .dataframe tbody tr th {\n",
       "        vertical-align: top;\n",
       "    }\n",
       "\n",
       "    .dataframe thead th {\n",
       "        text-align: right;\n",
       "    }\n",
       "</style>\n",
       "<table border=\"1\" class=\"dataframe\">\n",
       "  <thead>\n",
       "    <tr style=\"text-align: right;\">\n",
       "      <th></th>\n",
       "      <th>YearsExperience</th>\n",
       "      <th>Salary</th>\n",
       "    </tr>\n",
       "  </thead>\n",
       "  <tbody>\n",
       "    <tr>\n",
       "      <th>0</th>\n",
       "      <td>1.1</td>\n",
       "      <td>39343</td>\n",
       "    </tr>\n",
       "    <tr>\n",
       "      <th>1</th>\n",
       "      <td>1.3</td>\n",
       "      <td>46205</td>\n",
       "    </tr>\n",
       "    <tr>\n",
       "      <th>2</th>\n",
       "      <td>1.5</td>\n",
       "      <td>37731</td>\n",
       "    </tr>\n",
       "    <tr>\n",
       "      <th>3</th>\n",
       "      <td>2.0</td>\n",
       "      <td>43525</td>\n",
       "    </tr>\n",
       "    <tr>\n",
       "      <th>4</th>\n",
       "      <td>2.2</td>\n",
       "      <td>39891</td>\n",
       "    </tr>\n",
       "  </tbody>\n",
       "</table>\n",
       "</div>"
      ],
      "text/plain": [
       "   YearsExperience  Salary\n",
       "0              1.1   39343\n",
       "1              1.3   46205\n",
       "2              1.5   37731\n",
       "3              2.0   43525\n",
       "4              2.2   39891"
      ]
     },
     "execution_count": 3,
     "metadata": {},
     "output_type": "execute_result"
    }
   ],
   "source": [
    "df = pd.read_csv(\"/kaggle/input/salary-data-1/Salary_Data_1.csv\")\n",
    "df.head()"
   ]
  },
  {
   "cell_type": "markdown",
   "id": "b8a2eb9e",
   "metadata": {
    "papermill": {
     "duration": 0.011459,
     "end_time": "2024-03-09T06:56:23.299122",
     "exception": false,
     "start_time": "2024-03-09T06:56:23.287663",
     "status": "completed"
    },
    "tags": []
   },
   "source": [
    "# EDA"
   ]
  },
  {
   "cell_type": "code",
   "execution_count": 4,
   "id": "3da06d89",
   "metadata": {
    "execution": {
     "iopub.execute_input": "2024-03-09T06:56:23.324977Z",
     "iopub.status.busy": "2024-03-09T06:56:23.323831Z",
     "iopub.status.idle": "2024-03-09T06:56:23.330790Z",
     "shell.execute_reply": "2024-03-09T06:56:23.329755Z"
    },
    "papermill": {
     "duration": 0.022193,
     "end_time": "2024-03-09T06:56:23.333046",
     "exception": false,
     "start_time": "2024-03-09T06:56:23.310853",
     "status": "completed"
    },
    "tags": []
   },
   "outputs": [
    {
     "data": {
      "text/plain": [
       "(30, 2)"
      ]
     },
     "execution_count": 4,
     "metadata": {},
     "output_type": "execute_result"
    }
   ],
   "source": [
    "# Check number of rows and columns\n",
    "df.shape"
   ]
  },
  {
   "cell_type": "code",
   "execution_count": 5,
   "id": "d0f181b8",
   "metadata": {
    "execution": {
     "iopub.execute_input": "2024-03-09T06:56:23.359824Z",
     "iopub.status.busy": "2024-03-09T06:56:23.358852Z",
     "iopub.status.idle": "2024-03-09T06:56:23.367224Z",
     "shell.execute_reply": "2024-03-09T06:56:23.366069Z"
    },
    "papermill": {
     "duration": 0.023955,
     "end_time": "2024-03-09T06:56:23.369730",
     "exception": false,
     "start_time": "2024-03-09T06:56:23.345775",
     "status": "completed"
    },
    "tags": []
   },
   "outputs": [
    {
     "data": {
      "text/plain": [
       "60"
      ]
     },
     "execution_count": 5,
     "metadata": {},
     "output_type": "execute_result"
    }
   ],
   "source": [
    "# Check the size of the dataset\n",
    "df.size"
   ]
  },
  {
   "cell_type": "code",
   "execution_count": 6,
   "id": "64d8eee9",
   "metadata": {
    "execution": {
     "iopub.execute_input": "2024-03-09T06:56:23.396061Z",
     "iopub.status.busy": "2024-03-09T06:56:23.395683Z",
     "iopub.status.idle": "2024-03-09T06:56:23.421454Z",
     "shell.execute_reply": "2024-03-09T06:56:23.420586Z"
    },
    "papermill": {
     "duration": 0.0423,
     "end_time": "2024-03-09T06:56:23.424449",
     "exception": false,
     "start_time": "2024-03-09T06:56:23.382149",
     "status": "completed"
    },
    "tags": []
   },
   "outputs": [
    {
     "name": "stdout",
     "output_type": "stream",
     "text": [
      "<class 'pandas.core.frame.DataFrame'>\n",
      "RangeIndex: 30 entries, 0 to 29\n",
      "Data columns (total 2 columns):\n",
      " #   Column           Non-Null Count  Dtype  \n",
      "---  ------           --------------  -----  \n",
      " 0   YearsExperience  30 non-null     float64\n",
      " 1   Salary           30 non-null     int64  \n",
      "dtypes: float64(1), int64(1)\n",
      "memory usage: 608.0 bytes\n"
     ]
    }
   ],
   "source": [
    "# Check information of the dataset\n",
    "df.info()"
   ]
  },
  {
   "cell_type": "code",
   "execution_count": 7,
   "id": "ae55dc10",
   "metadata": {
    "execution": {
     "iopub.execute_input": "2024-03-09T06:56:23.451076Z",
     "iopub.status.busy": "2024-03-09T06:56:23.450398Z",
     "iopub.status.idle": "2024-03-09T06:56:23.457763Z",
     "shell.execute_reply": "2024-03-09T06:56:23.456962Z"
    },
    "papermill": {
     "duration": 0.023295,
     "end_time": "2024-03-09T06:56:23.460045",
     "exception": false,
     "start_time": "2024-03-09T06:56:23.436750",
     "status": "completed"
    },
    "tags": []
   },
   "outputs": [
    {
     "data": {
      "text/plain": [
       "YearsExperience    0\n",
       "Salary             0\n",
       "dtype: int64"
      ]
     },
     "execution_count": 7,
     "metadata": {},
     "output_type": "execute_result"
    }
   ],
   "source": [
    "# Check any missing values\n",
    "df.isnull().sum()"
   ]
  },
  {
   "cell_type": "code",
   "execution_count": 8,
   "id": "7ad5c4e5",
   "metadata": {
    "execution": {
     "iopub.execute_input": "2024-03-09T06:56:23.487158Z",
     "iopub.status.busy": "2024-03-09T06:56:23.486513Z",
     "iopub.status.idle": "2024-03-09T06:56:23.504783Z",
     "shell.execute_reply": "2024-03-09T06:56:23.503667Z"
    },
    "papermill": {
     "duration": 0.034683,
     "end_time": "2024-03-09T06:56:23.507465",
     "exception": false,
     "start_time": "2024-03-09T06:56:23.472782",
     "status": "completed"
    },
    "tags": []
   },
   "outputs": [
    {
     "data": {
      "text/html": [
       "<div>\n",
       "<style scoped>\n",
       "    .dataframe tbody tr th:only-of-type {\n",
       "        vertical-align: middle;\n",
       "    }\n",
       "\n",
       "    .dataframe tbody tr th {\n",
       "        vertical-align: top;\n",
       "    }\n",
       "\n",
       "    .dataframe thead th {\n",
       "        text-align: right;\n",
       "    }\n",
       "</style>\n",
       "<table border=\"1\" class=\"dataframe\">\n",
       "  <thead>\n",
       "    <tr style=\"text-align: right;\">\n",
       "      <th></th>\n",
       "      <th>YearsExperience</th>\n",
       "      <th>Salary</th>\n",
       "    </tr>\n",
       "  </thead>\n",
       "  <tbody>\n",
       "    <tr>\n",
       "      <th>count</th>\n",
       "      <td>30.000000</td>\n",
       "      <td>30.000000</td>\n",
       "    </tr>\n",
       "    <tr>\n",
       "      <th>mean</th>\n",
       "      <td>5.313333</td>\n",
       "      <td>76003.000000</td>\n",
       "    </tr>\n",
       "    <tr>\n",
       "      <th>std</th>\n",
       "      <td>2.837888</td>\n",
       "      <td>27414.429785</td>\n",
       "    </tr>\n",
       "    <tr>\n",
       "      <th>min</th>\n",
       "      <td>1.100000</td>\n",
       "      <td>37731.000000</td>\n",
       "    </tr>\n",
       "    <tr>\n",
       "      <th>25%</th>\n",
       "      <td>3.200000</td>\n",
       "      <td>56720.750000</td>\n",
       "    </tr>\n",
       "    <tr>\n",
       "      <th>50%</th>\n",
       "      <td>4.700000</td>\n",
       "      <td>65237.000000</td>\n",
       "    </tr>\n",
       "    <tr>\n",
       "      <th>75%</th>\n",
       "      <td>7.700000</td>\n",
       "      <td>100544.750000</td>\n",
       "    </tr>\n",
       "    <tr>\n",
       "      <th>max</th>\n",
       "      <td>10.500000</td>\n",
       "      <td>122391.000000</td>\n",
       "    </tr>\n",
       "  </tbody>\n",
       "</table>\n",
       "</div>"
      ],
      "text/plain": [
       "       YearsExperience         Salary\n",
       "count        30.000000      30.000000\n",
       "mean          5.313333   76003.000000\n",
       "std           2.837888   27414.429785\n",
       "min           1.100000   37731.000000\n",
       "25%           3.200000   56720.750000\n",
       "50%           4.700000   65237.000000\n",
       "75%           7.700000  100544.750000\n",
       "max          10.500000  122391.000000"
      ]
     },
     "execution_count": 8,
     "metadata": {},
     "output_type": "execute_result"
    }
   ],
   "source": [
    "# Statistical info\n",
    "df.describe()"
   ]
  },
  {
   "cell_type": "code",
   "execution_count": 9,
   "id": "7811c6f5",
   "metadata": {
    "execution": {
     "iopub.execute_input": "2024-03-09T06:56:23.534838Z",
     "iopub.status.busy": "2024-03-09T06:56:23.534138Z",
     "iopub.status.idle": "2024-03-09T06:56:23.546489Z",
     "shell.execute_reply": "2024-03-09T06:56:23.545256Z"
    },
    "papermill": {
     "duration": 0.028959,
     "end_time": "2024-03-09T06:56:23.548980",
     "exception": false,
     "start_time": "2024-03-09T06:56:23.520021",
     "status": "completed"
    },
    "tags": []
   },
   "outputs": [
    {
     "data": {
      "text/html": [
       "<div>\n",
       "<style scoped>\n",
       "    .dataframe tbody tr th:only-of-type {\n",
       "        vertical-align: middle;\n",
       "    }\n",
       "\n",
       "    .dataframe tbody tr th {\n",
       "        vertical-align: top;\n",
       "    }\n",
       "\n",
       "    .dataframe thead th {\n",
       "        text-align: right;\n",
       "    }\n",
       "</style>\n",
       "<table border=\"1\" class=\"dataframe\">\n",
       "  <thead>\n",
       "    <tr style=\"text-align: right;\">\n",
       "      <th></th>\n",
       "      <th>YearsExperience</th>\n",
       "      <th>Salary</th>\n",
       "    </tr>\n",
       "  </thead>\n",
       "  <tbody>\n",
       "    <tr>\n",
       "      <th>YearsExperience</th>\n",
       "      <td>1.000000</td>\n",
       "      <td>0.978242</td>\n",
       "    </tr>\n",
       "    <tr>\n",
       "      <th>Salary</th>\n",
       "      <td>0.978242</td>\n",
       "      <td>1.000000</td>\n",
       "    </tr>\n",
       "  </tbody>\n",
       "</table>\n",
       "</div>"
      ],
      "text/plain": [
       "                 YearsExperience    Salary\n",
       "YearsExperience         1.000000  0.978242\n",
       "Salary                  0.978242  1.000000"
      ]
     },
     "execution_count": 9,
     "metadata": {},
     "output_type": "execute_result"
    }
   ],
   "source": [
    "# Correlation\n",
    "df.corr()"
   ]
  },
  {
   "cell_type": "markdown",
   "id": "3922b8ca",
   "metadata": {
    "papermill": {
     "duration": 0.01239,
     "end_time": "2024-03-09T06:56:23.574192",
     "exception": false,
     "start_time": "2024-03-09T06:56:23.561802",
     "status": "completed"
    },
    "tags": []
   },
   "source": [
    "# Visualization"
   ]
  },
  {
   "cell_type": "code",
   "execution_count": 10,
   "id": "34b9fb2f",
   "metadata": {
    "execution": {
     "iopub.execute_input": "2024-03-09T06:56:23.601276Z",
     "iopub.status.busy": "2024-03-09T06:56:23.600867Z",
     "iopub.status.idle": "2024-03-09T06:56:23.905708Z",
     "shell.execute_reply": "2024-03-09T06:56:23.904523Z"
    },
    "papermill": {
     "duration": 0.321539,
     "end_time": "2024-03-09T06:56:23.908473",
     "exception": false,
     "start_time": "2024-03-09T06:56:23.586934",
     "status": "completed"
    },
    "tags": []
   },
   "outputs": [
    {
     "data": {
      "image/png": "[encoded data removed]",
      "text/plain": [
       "<Figure size 640x480 with 1 Axes>"
      ]
     },
     "metadata": {},
     "output_type": "display_data"
    }
   ],
   "source": [
    "# Line plot\n",
    "plt.plot(df[\"YearsExperience\"], df[\"Salary\"])\n",
    "plt.title(\"Salary vs Years of Experience\")\n",
    "plt.xlabel(\"Years of Experience\")\n",
    "plt.ylabel(\"Salary\")\n",
    "plt.show()"
   ]
  },
  {
   "cell_type": "code",
   "execution_count": 11,
   "id": "5fb19d40",
   "metadata": {
    "execution": {
     "iopub.execute_input": "2024-03-09T06:56:23.937168Z",
     "iopub.status.busy": "2024-03-09T06:56:23.936792Z",
     "iopub.status.idle": "2024-03-09T06:56:25.310949Z",
     "shell.execute_reply": "2024-03-09T06:56:25.309756Z"
    },
    "papermill": {
     "duration": 1.391641,
     "end_time": "2024-03-09T06:56:25.313536",
     "exception": false,
     "start_time": "2024-03-09T06:56:23.921895",
     "status": "completed"
    },
    "tags": []
   },
   "outputs": [
    {
     "data": {
      "image/png": "[encoded data removed]",
      "text/plain": [
       "<Figure size 500x500 with 6 Axes>"
      ]
     },
     "metadata": {},
     "output_type": "display_data"
    }
   ],
   "source": [
    "# Pair plot\n",
    "sns.pairplot(df)\n",
    "plt.show()"
   ]
  },
  {
   "cell_type": "code",
   "execution_count": 12,
   "id": "af66658f",
   "metadata": {
    "execution": {
     "iopub.execute_input": "2024-03-09T06:56:25.343109Z",
     "iopub.status.busy": "2024-03-09T06:56:25.342671Z",
     "iopub.status.idle": "2024-03-09T06:56:25.656549Z",
     "shell.execute_reply": "2024-03-09T06:56:25.655431Z"
    },
    "papermill": {
     "duration": 0.331546,
     "end_time": "2024-03-09T06:56:25.659089",
     "exception": false,
     "start_time": "2024-03-09T06:56:25.327543",
     "status": "completed"
    },
    "tags": []
   },
   "outputs": [
    {
     "data": {
      "image/png": "[encoded data removed]",
      "text/plain": [
       "<Figure size 640x480 with 2 Axes>"
      ]
     },
     "metadata": {},
     "output_type": "display_data"
    }
   ],
   "source": [
    "# Heatmap\n",
    "sns.heatmap(df.corr(), annot=True)\n",
    "plt.show()"
   ]
  },
  {
   "cell_type": "markdown",
   "id": "77a5e9c4",
   "metadata": {
    "papermill": {
     "duration": 0.014836,
     "end_time": "2024-03-09T06:56:25.688790",
     "exception": false,
     "start_time": "2024-03-09T06:56:25.673954",
     "status": "completed"
    },
    "tags": []
   },
   "source": [
    "# Independent and Dependent variable"
   ]
  },
  {
   "cell_type": "code",
   "execution_count": 13,
   "id": "3ab49c4b",
   "metadata": {
    "execution": {
     "iopub.execute_input": "2024-03-09T06:56:25.719797Z",
     "iopub.status.busy": "2024-03-09T06:56:25.719352Z",
     "iopub.status.idle": "2024-03-09T06:56:25.726935Z",
     "shell.execute_reply": "2024-03-09T06:56:25.726117Z"
    },
    "papermill": {
     "duration": 0.025724,
     "end_time": "2024-03-09T06:56:25.729148",
     "exception": false,
     "start_time": "2024-03-09T06:56:25.703424",
     "status": "completed"
    },
    "tags": []
   },
   "outputs": [
    {
     "data": {
      "text/plain": [
       "array([[1.1],\n",
       "       [1.3],\n",
       "       [1.5],\n",
       "       [2. ],\n",
       "       [2.2]])"
      ]
     },
     "execution_count": 13,
     "metadata": {},
     "output_type": "execute_result"
    }
   ],
   "source": [
    "# Independet or feature variable\n",
    "X = df.iloc[:, :-1].values\n",
    "X[:5]"
   ]
  },
  {
   "cell_type": "code",
   "execution_count": 14,
   "id": "aa0c8b18",
   "metadata": {
    "execution": {
     "iopub.execute_input": "2024-03-09T06:56:25.762547Z",
     "iopub.status.busy": "2024-03-09T06:56:25.761252Z",
     "iopub.status.idle": "2024-03-09T06:56:25.768671Z",
     "shell.execute_reply": "2024-03-09T06:56:25.767839Z"
    },
    "papermill": {
     "duration": 0.026662,
     "end_time": "2024-03-09T06:56:25.770834",
     "exception": false,
     "start_time": "2024-03-09T06:56:25.744172",
     "status": "completed"
    },
    "tags": []
   },
   "outputs": [
    {
     "data": {
      "text/plain": [
       "array([39343, 46205, 37731, 43525, 39891])"
      ]
     },
     "execution_count": 14,
     "metadata": {},
     "output_type": "execute_result"
    }
   ],
   "source": [
    "# Dependent or target variable\n",
    "y = df.iloc[:, -1].values\n",
    "y[:5]"
   ]
  },
  {
   "cell_type": "markdown",
   "id": "c693127d",
   "metadata": {
    "papermill": {
     "duration": 0.015029,
     "end_time": "2024-03-09T06:56:25.800905",
     "exception": false,
     "start_time": "2024-03-09T06:56:25.785876",
     "status": "completed"
    },
    "tags": []
   },
   "source": [
    "# Train and test set split"
   ]
  },
  {
   "cell_type": "code",
   "execution_count": 15,
   "id": "1a47b725",
   "metadata": {
    "execution": {
     "iopub.execute_input": "2024-03-09T06:56:25.833395Z",
     "iopub.status.busy": "2024-03-09T06:56:25.832263Z",
     "iopub.status.idle": "2024-03-09T06:56:26.107438Z",
     "shell.execute_reply": "2024-03-09T06:56:26.106051Z"
    },
    "papermill": {
     "duration": 0.294227,
     "end_time": "2024-03-09T06:56:26.110201",
     "exception": false,
     "start_time": "2024-03-09T06:56:25.815974",
     "status": "completed"
    },
    "tags": []
   },
   "outputs": [],
   "source": [
    "from sklearn.model_selection import train_test_split\n",
    "X_train, X_test, y_train, y_test = train_test_split(X, y, test_size=0.3, random_state=0)"
   ]
  },
  {
   "cell_type": "markdown",
   "id": "637b0fbf",
   "metadata": {
    "papermill": {
     "duration": 0.01553,
     "end_time": "2024-03-09T06:56:26.140623",
     "exception": false,
     "start_time": "2024-03-09T06:56:26.125093",
     "status": "completed"
    },
    "tags": []
   },
   "source": [
    "# Simple Linear Regression Model"
   ]
  },
  {
   "cell_type": "code",
   "execution_count": 16,
   "id": "ae6816c6",
   "metadata": {
    "execution": {
     "iopub.execute_input": "2024-03-09T06:56:26.172523Z",
     "iopub.status.busy": "2024-03-09T06:56:26.172088Z",
     "iopub.status.idle": "2024-03-09T06:56:26.290537Z",
     "shell.execute_reply": "2024-03-09T06:56:26.289301Z"
    },
    "papermill": {
     "duration": 0.137176,
     "end_time": "2024-03-09T06:56:26.293167",
     "exception": false,
     "start_time": "2024-03-09T06:56:26.155991",
     "status": "completed"
    },
    "tags": []
   },
   "outputs": [
    {
     "data": {
      "text/html": [
       "<style>#sk-container-id-1 {color: black;background-color: white;}#sk-container-id-1 pre{padding: 0;}#sk-container-id-1 div.sk-toggleable {background-color: white;}#sk-container-id-1 label.sk-toggleable__label {cursor: pointer;display: block;width: 100%;margin-bottom: 0;padding: 0.3em;box-sizing: border-box;text-align: center;}#sk-container-id-1 label.sk-toggleable__label-arrow:before {content: \"▸\";float: left;margin-right: 0.25em;color: #696969;}#sk-container-id-1 label.sk-toggleable__label-arrow:hover:before {color: black;}#sk-container-id-1 div.sk-estimator:hover label.sk-toggleable__label-arrow:before {color: black;}#sk-container-id-1 div.sk-toggleable__content {max-height: 0;max-width: 0;overflow: hidden;text-align: left;background-color: #f0f8ff;}#sk-container-id-1 div.sk-toggleable__content pre {margin: 0.2em;color: black;border-radius: 0.25em;background-color: #f0f8ff;}#sk-container-id-1 input.sk-toggleable__control:checked~div.sk-toggleable__content {max-height: 200px;max-width: 100%;overflow: auto;}#sk-container-id-1 input.sk-toggleable__control:checked~label.sk-toggleable__label-arrow:before {content: \"▾\";}#sk-container-id-1 div.sk-estimator input.sk-toggleable__control:checked~label.sk-toggleable__label {background-color: #d4ebff;}#sk-container-id-1 div.sk-label input.sk-toggleable__control:checked~label.sk-toggleable__label {background-color: #d4ebff;}#sk-container-id-1 input.sk-hidden--visually {border: 0;clip: rect(1px 1px 1px 1px);clip: rect(1px, 1px, 1px, 1px);height: 1px;margin: -1px;overflow: hidden;padding: 0;position: absolute;width: 1px;}#sk-container-id-1 div.sk-estimator {font-family: monospace;background-color: #f0f8ff;border: 1px dotted black;border-radius: 0.25em;box-sizing: border-box;margin-bottom: 0.5em;}#sk-container-id-1 div.sk-estimator:hover {background-color: #d4ebff;}#sk-container-id-1 div.sk-parallel-item::after {content: \"\";width: 100%;border-bottom: 1px solid gray;flex-grow: 1;}#sk-container-id-1 div.sk-label:hover label.sk-toggleable__label {background-color: #d4ebff;}#sk-container-id-1 div.sk-serial::before {content: \"\";position: absolute;border-left: 1px solid gray;box-sizing: border-box;top: 0;bottom: 0;left: 50%;z-index: 0;}#sk-container-id-1 div.sk-serial {display: flex;flex-direction: column;align-items: center;background-color: white;padding-right: 0.2em;padding-left: 0.2em;position: relative;}#sk-container-id-1 div.sk-item {position: relative;z-index: 1;}#sk-container-id-1 div.sk-parallel {display: flex;align-items: stretch;justify-content: center;background-color: white;position: relative;}#sk-container-id-1 div.sk-item::before, #sk-container-id-1 div.sk-parallel-item::before {content: \"\";position: absolute;border-left: 1px solid gray;box-sizing: border-box;top: 0;bottom: 0;left: 50%;z-index: -1;}#sk-container-id-1 div.sk-parallel-item {display: flex;flex-direction: column;z-index: 1;position: relative;background-color: white;}#sk-container-id-1 div.sk-parallel-item:first-child::after {align-self: flex-end;width: 50%;}#sk-container-id-1 div.sk-parallel-item:last-child::after {align-self: flex-start;width: 50%;}#sk-container-id-1 div.sk-parallel-item:only-child::after {width: 0;}#sk-container-id-1 div.sk-dashed-wrapped {border: 1px dashed gray;margin: 0 0.4em 0.5em 0.4em;box-sizing: border-box;padding-bottom: 0.4em;background-color: white;}#sk-container-id-1 div.sk-label label {font-family: monospace;font-weight: bold;display: inline-block;line-height: 1.2em;}#sk-container-id-1 div.sk-label-container {text-align: center;}#sk-container-id-1 div.sk-container {/* jupyter's `normalize.less` sets `[hidden] { display: none; }` but bootstrap.min.css set `[hidden] { display: none !important; }` so we also need the `!important` here to be able to override the default hidden behavior on the sphinx rendered scikit-learn.org. See: https://github.com/scikit-learn/scikit-learn/issues/21755 */display: inline-block !important;position: relative;}#sk-container-id-1 div.sk-text-repr-fallback {display: none;}</style><div id=\"sk-container-id-1\" class=\"sk-top-container\"><div class=\"sk-text-repr-fallback\"><pre>LinearRegression()</pre><b>In a Jupyter environment, please rerun this cell to show the HTML representation or trust the notebook. <br />On GitHub, the HTML representation is unable to render, please try loading this page with nbviewer.org.</b></div><div class=\"sk-container\" hidden><div class=\"sk-item\"><div class=\"sk-estimator sk-toggleable\"><input class=\"sk-toggleable__control sk-hidden--visually\" id=\"sk-estimator-id-1\" type=\"checkbox\" checked><label for=\"sk-estimator-id-1\" class=\"sk-toggleable__label sk-toggleable__label-arrow\">LinearRegression</label><div class=\"sk-toggleable__content\"><pre>LinearRegression()</pre></div></div></div></div></div>"
      ],
      "text/plain": [
       "LinearRegression()"
      ]
     },
     "execution_count": 16,
     "metadata": {},
     "output_type": "execute_result"
    }
   ],
   "source": [
    "from sklearn.linear_model import LinearRegression\n",
    "lr = LinearRegression()\n",
    "lr.fit(X_train, y_train)"
   ]
  },
  {
   "cell_type": "markdown",
   "id": "c863107a",
   "metadata": {
    "papermill": {
     "duration": 0.015911,
     "end_time": "2024-03-09T06:56:26.324477",
     "exception": false,
     "start_time": "2024-03-09T06:56:26.308566",
     "status": "completed"
    },
    "tags": []
   },
   "source": [
    "# Prediction"
   ]
  },
  {
   "cell_type": "code",
   "execution_count": 17,
   "id": "99dfa502",
   "metadata": {
    "execution": {
     "iopub.execute_input": "2024-03-09T06:56:26.356778Z",
     "iopub.status.busy": "2024-03-09T06:56:26.356309Z",
     "iopub.status.idle": "2024-03-09T06:56:26.364598Z",
     "shell.execute_reply": "2024-03-09T06:56:26.363476Z"
    },
    "papermill": {
     "duration": 0.027365,
     "end_time": "2024-03-09T06:56:26.367110",
     "exception": false,
     "start_time": "2024-03-09T06:56:26.339745",
     "status": "completed"
    },
    "tags": []
   },
   "outputs": [
    {
     "data": {
      "text/plain": [
       "array([ 40817.78327049, 123188.08258899,  65154.46261459,  63282.41035735,\n",
       "       115699.87356004, 108211.66453108, 116635.89968866,  64218.43648597,\n",
       "        76386.77615802])"
      ]
     },
     "execution_count": 17,
     "metadata": {},
     "output_type": "execute_result"
    }
   ],
   "source": [
    "y_pred = lr.predict(X_test)\n",
    "y_pred"
   ]
  },
  {
   "cell_type": "code",
   "execution_count": 18,
   "id": "21b8e991",
   "metadata": {
    "execution": {
     "iopub.execute_input": "2024-03-09T06:56:26.399370Z",
     "iopub.status.busy": "2024-03-09T06:56:26.398931Z",
     "iopub.status.idle": "2024-03-09T06:56:26.690567Z",
     "shell.execute_reply": "2024-03-09T06:56:26.689300Z"
    },
    "papermill": {
     "duration": 0.310844,
     "end_time": "2024-03-09T06:56:26.693345",
     "exception": false,
     "start_time": "2024-03-09T06:56:26.382501",
     "status": "completed"
    },
    "tags": []
   },
   "outputs": [
    {
     "data": {
      "image/png": "[encoded data removed]",
      "text/plain": [
       "<Figure size 640x480 with 1 Axes>"
      ]
     },
     "metadata": {},
     "output_type": "display_data"
    }
   ],
   "source": [
    "# Visualization of train set results\n",
    "plt.scatter(X_train, y_train, color='yellow')\n",
    "plt.plot(X_train, lr.predict(X_train), color='pink')\n",
    "plt.title(\"Salary vs Experience (Training Set)\")\n",
    "plt.xlabel(\"Years of Experience\")\n",
    "plt.ylabel(\"Salary\")\n",
    "plt.show()"
   ]
  },
  {
   "cell_type": "code",
   "execution_count": 19,
   "id": "e6fd00a0",
   "metadata": {
    "execution": {
     "iopub.execute_input": "2024-03-09T06:56:26.727234Z",
     "iopub.status.busy": "2024-03-09T06:56:26.726790Z",
     "iopub.status.idle": "2024-03-09T06:56:27.031781Z",
     "shell.execute_reply": "2024-03-09T06:56:27.030414Z"
    },
    "papermill": {
     "duration": 0.325354,
     "end_time": "2024-03-09T06:56:27.034781",
     "exception": false,
     "start_time": "2024-03-09T06:56:26.709427",
     "status": "completed"
    },
    "tags": []
   },
   "outputs": [
    {
     "data": {
      "image/png": "[encoded data removed]",
      "text/plain": [
       "<Figure size 640x480 with 1 Axes>"
      ]
     },
     "metadata": {},
     "output_type": "display_data"
    }
   ],
   "source": [
    "# Visualization of test set results\n",
    "plt.scatter(X_test, y_test, color='yellow')\n",
    "plt.plot(X_train, lr.predict(X_train), color='pink')\n",
    "plt.title(\"Salary vs Experience (Test Set)\")\n",
    "plt.xlabel(\"Years of Experience\")\n",
    "plt.ylabel(\"Salary\")\n",
    "plt.show()"
   ]
  },
  {
   "cell_type": "markdown",
   "id": "9bcd50f3",
   "metadata": {
    "papermill": {
     "duration": 0.016552,
     "end_time": "2024-03-09T06:56:27.067955",
     "exception": false,
     "start_time": "2024-03-09T06:56:27.051403",
     "status": "completed"
    },
    "tags": []
   },
   "source": [
    "# Model Performance"
   ]
  },
  {
   "cell_type": "code",
   "execution_count": 20,
   "id": "5c1c0c0f",
   "metadata": {
    "execution": {
     "iopub.execute_input": "2024-03-09T06:56:27.108581Z",
     "iopub.status.busy": "2024-03-09T06:56:27.107063Z",
     "iopub.status.idle": "2024-03-09T06:56:27.116498Z",
     "shell.execute_reply": "2024-03-09T06:56:27.113001Z"
    },
    "papermill": {
     "duration": 0.035918,
     "end_time": "2024-03-09T06:56:27.120468",
     "exception": false,
     "start_time": "2024-03-09T06:56:27.084550",
     "status": "completed"
    },
    "tags": []
   },
   "outputs": [],
   "source": [
    "from sklearn import metrics"
   ]
  },
  {
   "cell_type": "code",
   "execution_count": 21,
   "id": "dac13eb3",
   "metadata": {
    "execution": {
     "iopub.execute_input": "2024-03-09T06:56:27.168517Z",
     "iopub.status.busy": "2024-03-09T06:56:27.167710Z",
     "iopub.status.idle": "2024-03-09T06:56:27.173359Z",
     "shell.execute_reply": "2024-03-09T06:56:27.172458Z"
    },
    "papermill": {
     "duration": 0.030587,
     "end_time": "2024-03-09T06:56:27.175763",
     "exception": false,
     "start_time": "2024-03-09T06:56:27.145176",
     "status": "completed"
    },
    "tags": []
   },
   "outputs": [
    {
     "name": "stdout",
     "output_type": "stream",
     "text": [
      "R-Squared: 0.9740993407213511\n"
     ]
    }
   ],
   "source": [
    "print(f\"R-Squared: {metrics.r2_score(y_test, y_pred)}\")\n"
   ]
  },
  {
   "cell_type": "code",
   "execution_count": 22,
   "id": "c645c9dc",
   "metadata": {
    "execution": {
     "iopub.execute_input": "2024-03-09T06:56:27.212013Z",
     "iopub.status.busy": "2024-03-09T06:56:27.211618Z",
     "iopub.status.idle": "2024-03-09T06:56:27.218259Z",
     "shell.execute_reply": "2024-03-09T06:56:27.216808Z"
    },
    "papermill": {
     "duration": 0.028235,
     "end_time": "2024-03-09T06:56:27.221105",
     "exception": false,
     "start_time": "2024-03-09T06:56:27.192870",
     "status": "completed"
    },
    "tags": []
   },
   "outputs": [
    {
     "name": "stdout",
     "output_type": "stream",
     "text": [
      "Model Score: 0.9423777652193379\n"
     ]
    }
   ],
   "source": [
    "print(f\"Model Score: {lr.score(X_train, y_train)}\")"
   ]
  },
  {
   "cell_type": "code",
   "execution_count": 23,
   "id": "ed0b3a8c",
   "metadata": {
    "execution": {
     "iopub.execute_input": "2024-03-09T06:56:27.261254Z",
     "iopub.status.busy": "2024-03-09T06:56:27.260634Z",
     "iopub.status.idle": "2024-03-09T06:56:27.269588Z",
     "shell.execute_reply": "2024-03-09T06:56:27.268565Z"
    },
    "papermill": {
     "duration": 0.035251,
     "end_time": "2024-03-09T06:56:27.273306",
     "exception": false,
     "start_time": "2024-03-09T06:56:27.238055",
     "status": "completed"
    },
    "tags": []
   },
   "outputs": [
    {
     "name": "stdout",
     "output_type": "stream",
     "text": [
      "Mean Absolute Error: 3737.417861878896\n"
     ]
    }
   ],
   "source": [
    "print(f\"Mean Absolute Error: {metrics.mean_absolute_error(y_test, y_pred)}\")"
   ]
  },
  {
   "cell_type": "code",
   "execution_count": 24,
   "id": "3c2680f4",
   "metadata": {
    "execution": {
     "iopub.execute_input": "2024-03-09T06:56:27.323777Z",
     "iopub.status.busy": "2024-03-09T06:56:27.321611Z",
     "iopub.status.idle": "2024-03-09T06:56:27.331153Z",
     "shell.execute_reply": "2024-03-09T06:56:27.329750Z"
    },
    "papermill": {
     "duration": 0.034893,
     "end_time": "2024-03-09T06:56:27.333788",
     "exception": false,
     "start_time": "2024-03-09T06:56:27.298895",
     "status": "completed"
    },
    "tags": []
   },
   "outputs": [
    {
     "name": "stdout",
     "output_type": "stream",
     "text": [
      "Mean Squared Error: 23370078.800832972\n"
     ]
    }
   ],
   "source": [
    "print(f\"Mean Squared Error: {metrics.mean_squared_error(y_test, y_pred)}\")"
   ]
  },
  {
   "cell_type": "code",
   "execution_count": 25,
   "id": "ea36ee33",
   "metadata": {
    "execution": {
     "iopub.execute_input": "2024-03-09T06:56:27.370577Z",
     "iopub.status.busy": "2024-03-09T06:56:27.369405Z",
     "iopub.status.idle": "2024-03-09T06:56:27.376200Z",
     "shell.execute_reply": "2024-03-09T06:56:27.374782Z"
    },
    "papermill": {
     "duration": 0.02819,
     "end_time": "2024-03-09T06:56:27.379321",
     "exception": false,
     "start_time": "2024-03-09T06:56:27.351131",
     "status": "completed"
    },
    "tags": []
   },
   "outputs": [
    {
     "name": "stdout",
     "output_type": "stream",
     "text": [
      "Root Mean Squared Error: 4834.260936361728\n"
     ]
    }
   ],
   "source": [
    "print(f\"Root Mean Squared Error: {np.sqrt(metrics.mean_squared_error(y_test, y_pred))}\")"
   ]
  },
  {
   "cell_type": "markdown",
   "id": "1dd7cd7a",
   "metadata": {
    "papermill": {
     "duration": 0.016756,
     "end_time": "2024-03-09T06:56:27.413268",
     "exception": false,
     "start_time": "2024-03-09T06:56:27.396512",
     "status": "completed"
    },
    "tags": []
   },
   "source": [
    "# Making single prediction"
   ]
  },
  {
   "cell_type": "code",
   "execution_count": 26,
   "id": "29331c16",
   "metadata": {
    "execution": {
     "iopub.execute_input": "2024-03-09T06:56:27.448977Z",
     "iopub.status.busy": "2024-03-09T06:56:27.448584Z",
     "iopub.status.idle": "2024-03-09T06:56:27.456162Z",
     "shell.execute_reply": "2024-03-09T06:56:27.454861Z"
    },
    "papermill": {
     "duration": 0.028282,
     "end_time": "2024-03-09T06:56:27.458479",
     "exception": false,
     "start_time": "2024-03-09T06:56:27.430197",
     "status": "completed"
    },
    "tags": []
   },
   "outputs": [
    {
     "data": {
      "text/plain": [
       "array([148460.78806172])"
      ]
     },
     "execution_count": 26,
     "metadata": {},
     "output_type": "execute_result"
    }
   ],
   "source": [
    "lr.predict([[13]])"
   ]
  },
  {
   "cell_type": "markdown",
   "id": "446d0e9c",
   "metadata": {
    "papermill": {
     "duration": 0.016868,
     "end_time": "2024-03-09T06:56:27.492654",
     "exception": false,
     "start_time": "2024-03-09T06:56:27.475786",
     "status": "completed"
    },
    "tags": []
   },
   "source": [
    "# Coefficient and Intercept"
   ]
  },
  {
   "cell_type": "code",
   "execution_count": 27,
   "id": "187ecf11",
   "metadata": {
    "execution": {
     "iopub.execute_input": "2024-03-09T06:56:27.537316Z",
     "iopub.status.busy": "2024-03-09T06:56:27.536917Z",
     "iopub.status.idle": "2024-03-09T06:56:27.543116Z",
     "shell.execute_reply": "2024-03-09T06:56:27.542284Z"
    },
    "papermill": {
     "duration": 0.031891,
     "end_time": "2024-03-09T06:56:27.546962",
     "exception": false,
     "start_time": "2024-03-09T06:56:27.515071",
     "status": "completed"
    },
    "tags": []
   },
   "outputs": [
    {
     "data": {
      "text/plain": [
       "array([9360.26128619])"
      ]
     },
     "execution_count": 27,
     "metadata": {},
     "output_type": "execute_result"
    }
   ],
   "source": [
    "# Coefficient of fitted linear regression model\n",
    "lr.coef_"
   ]
  },
  {
   "cell_type": "code",
   "execution_count": 28,
   "id": "291b778d",
   "metadata": {
    "execution": {
     "iopub.execute_input": "2024-03-09T06:56:27.594922Z",
     "iopub.status.busy": "2024-03-09T06:56:27.594357Z",
     "iopub.status.idle": "2024-03-09T06:56:27.603752Z",
     "shell.execute_reply": "2024-03-09T06:56:27.602466Z"
    },
    "papermill": {
     "duration": 0.036513,
     "end_time": "2024-03-09T06:56:27.606311",
     "exception": false,
     "start_time": "2024-03-09T06:56:27.569798",
     "status": "completed"
    },
    "tags": []
   },
   "outputs": [
    {
     "data": {
      "text/plain": [
       "26777.391341197625"
      ]
     },
     "execution_count": 28,
     "metadata": {},
     "output_type": "execute_result"
    }
   ],
   "source": [
    "# Intercept of fitted linear regression model\n",
    "lr.intercept_"
   ]
  }
 ],
 "metadata": {
  "kaggle": {
   "accelerator": "none",
   "dataSources": [
    {
     "datasetId": 1383961,
     "sourceId": 2295797,
     "sourceType": "datasetVersion"
    }
   ],
   "dockerImageVersionId": 30664,
   "isGpuEnabled": false,
   "isInternetEnabled": true,
   "language": "python",
   "sourceType": "notebook"
  },
  "kernelspec": {
   "display_name": "Python 3 (ipykernel)",
   "language": "python",
   "name": "python3"
  },
  "language_info": {
   "codemirror_mode": {
    "name": "ipython",
    "version": 3
   },
   "file_extension": ".py",
   "mimetype": "text/x-python",
   "name": "python",
   "nbconvert_exporter": "python",
   "pygments_lexer": "ipython3",
   "version": "3.11.5"
  },
  "papermill": {
   "default_parameters": {},
   "duration": 10.732358,
   "end_time": "2024-03-09T06:56:28.406773",
   "environment_variables": {},
   "exception": null,
   "input_path": "__notebook__.ipynb",
   "output_path": "__notebook__.ipynb",
   "parameters": {},
   "start_time": "2024-03-09T06:56:17.674415",
   "version": "2.5.0"
  }
 },
 "nbformat": 4,
 "nbformat_minor": 5
}
